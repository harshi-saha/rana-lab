{
 "cells": [
  {
   "attachments": {},
   "cell_type": "markdown",
   "id": "5bb69374",
   "metadata": {},
   "source": [
    "#### Introduction\n",
    "\n",
    "This jupyter notebook contains demonstrations related to setting up a server on the Triton Shared Computing Cluster (TSCC) High Performance Computing (HPC) system at the San Diego Supercomputer Center (SDSC).\n",
    "\n",
    "This notebook only includes directions for actions listed in the index below as relevant to the Rana Lab. This notebook will be updated as required.\n",
    "\n",
    "For guidance on the usage of scripts specfically related to the bioinformatic analysis of data, see corresponding jupyter notebooks that are included in the [rana-lab repository](https://github.com/harshi-saha/rana-lab)."
   ]
  },
  {
   "attachments": {},
   "cell_type": "markdown",
   "id": "c93486d1",
   "metadata": {},
   "source": [
    "#### Index\n",
    "\n",
    "    1. Logging into the server\n",
    "    2. Installing Anaconda in the server\n",
    "    3. Creating virtual environments in the server\n",
    "    4. Running interactive jobs on the server\n",
    "    5. Running batch jobs on the server\n",
    "    6. Running scripts in the interactive session on the server\n",
    "    7. Notes:\n",
    "        - What each location and directory should be used for\n",
    "        - How to upload files to the server\n",
    "        - Where to get help"
   ]
  },
  {
   "attachments": {},
   "cell_type": "markdown",
   "id": "c4f47e77",
   "metadata": {},
   "source": [
    "#### 1. Logging into the server"
   ]
  },
  {
   "attachments": {},
   "cell_type": "markdown",
   "id": "4d934544",
   "metadata": {},
   "source": [
    "Open up the terminal on your local system, and type in the command below:\n",
    "\n",
    "`ssh <your-username>@tscc-login.sdsc.edu`\n",
    "\n",
    "After this, your terminal should look as below:\n",
    "\n",
    "**Note:** The name of the base and the username shown here will not be identical you yours."
   ]
  },
  {
   "attachments": {},
   "cell_type": "markdown",
   "id": "c343462a",
   "metadata": {},
   "source": [
    "<img src=\"img1.png\"  width=\"500\" height=\"100\">"
   ]
  },
  {
   "attachments": {},
   "cell_type": "markdown",
   "id": "9226fbcd",
   "metadata": {},
   "source": [
    "When prompted by the terminal to enter a password, signified by the flashing key symbol, enter in the same password you use to log into your ucsd email. \n",
    "\n",
    "The password will not shown up in the terminal as you are typing it. \n",
    "\n",
    "Press `enter` when you are done. \n",
    "\n",
    "\n",
    "After this, your terminal should look as below:\n",
    "\n",
    "**Note:** The base is now the TSCC server and no longer your local server."
   ]
  },
  {
   "attachments": {},
   "cell_type": "markdown",
   "id": "4e8460d1",
   "metadata": {},
   "source": [
    "<img src=\"img2.png\"  width=\"500\" height=\"100\">"
   ]
  },
  {
   "attachments": {},
   "cell_type": "markdown",
   "id": "f0a444a7",
   "metadata": {},
   "source": [
    "You have now successfully logged into the server."
   ]
  },
  {
   "attachments": {},
   "cell_type": "markdown",
   "id": "8eb895d5",
   "metadata": {},
   "source": [
    "#### 7. Notes:\n"
   ]
  },
  {
   "attachments": {},
   "cell_type": "markdown",
   "id": "e4af01c0",
   "metadata": {},
   "source": [
    "#### What each location and directory should be used for:"
   ]
  },
  {
   "attachments": {},
   "cell_type": "markdown",
   "id": "015b3379",
   "metadata": {},
   "source": [
    "#### How to upload files to the server:"
   ]
  },
  {
   "attachments": {},
   "cell_type": "markdown",
   "id": "7ad5678f",
   "metadata": {},
   "source": [
    "#### Where to get help:\n",
    "\n",
    "For any questions related to the server, email `tscc-support@ucsd.edu `."
   ]
  }
 ],
 "metadata": {
  "kernelspec": {
   "display_name": "Python 3 (ipykernel)",
   "language": "python",
   "name": "python3"
  },
  "language_info": {
   "codemirror_mode": {
    "name": "ipython",
    "version": 3
   },
   "file_extension": ".py",
   "mimetype": "text/x-python",
   "name": "python",
   "nbconvert_exporter": "python",
   "pygments_lexer": "ipython3",
   "version": "3.8.15"
  }
 },
 "nbformat": 4,
 "nbformat_minor": 5
}
