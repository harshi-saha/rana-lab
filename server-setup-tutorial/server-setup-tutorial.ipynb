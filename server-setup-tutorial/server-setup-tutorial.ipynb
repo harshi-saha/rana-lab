{
 "cells": [
  {
   "cell_type": "markdown",
   "id": "5bb69374",
   "metadata": {},
   "source": [
    "#### Introduction\n",
    "\n",
    "This jupyter notebook contains demonstrations related to setting up a server on the Triton Shared Computing Cluster (TSCC) High Performance Computing (HPC) system at the San Diego Supercomputer Center (SDSC).\n",
    "\n",
    "This notebook only includes directions for actions listed in the index below as relevant to the Rana Lab. This notebook will be updated as required.\n",
    "\n",
    "For guidance on the usage of scripts specifically related to the bioinformatic analysis of data, see corresponding jupyter notebooks that are included in the [rana-lab repository](https://github.com/harshi-saha/rana-lab)."
   ]
  },
  {
   "cell_type": "markdown",
   "id": "c93486d1",
   "metadata": {},
   "source": [
    "#### Index\n",
    "\n",
    "    1. Logging into the server\n",
    "    2. Installing Anaconda in the server\n",
    "    3. Creating virtual environments in the server\n",
    "    4. Setting up jupyter notebooks in the server\n",
    "    5. Running interactive jobs on the server\n",
    "    6. Running batch jobs on the server\n",
    "    7. Running scripts in the interactive session on the server\n",
    "    8. Notes:\n",
    "        - What each location and directory should be used for\n",
    "        - How to upload files to the server\n",
    "        - Where to get help\n",
    "        - References"
   ]
  },
  {
   "cell_type": "markdown",
   "id": "c4f47e77",
   "metadata": {},
   "source": [
    "#### 1. Logging into the server"
   ]
  },
  {
   "cell_type": "markdown",
   "id": "4d934544",
   "metadata": {},
   "source": [
    "Open up the terminal on your local system, and type in the command below:\n",
    "\n",
    "`ssh <your-username>@tscc-login.sdsc.edu`\n",
    "\n",
    "After this, your terminal should look as below:\n",
    "\n",
    "**Note:** The name of the base and the username shown here will not be identical you yours."
   ]
  },
  {
   "cell_type": "markdown",
   "id": "c343462a",
   "metadata": {},
   "source": [
    "<img src=\"img1.png\"  width=\"500\" height=\"100\">"
   ]
  },
  {
   "cell_type": "markdown",
   "id": "9226fbcd",
   "metadata": {},
   "source": [
    "When prompted by the terminal to enter a password, signified by the flashing key symbol, enter in the same password you use to log into your ucsd email. \n",
    "\n",
    "The password will not show up in the terminal as you are typing it. \n",
    "\n",
    "Press `enter` when you are done. \n",
    "\n",
    "\n",
    "After this, your terminal should look as below:\n",
    "\n",
    "**Note:** The base is now the TSCC server and no longer your local server."
   ]
  },
  {
   "cell_type": "markdown",
   "id": "b9986fca",
   "metadata": {},
   "source": [
    "<img src=\"img2.png\"  width=\"500\" height=\"100\">"
   ]
  },
  {
   "cell_type": "markdown",
   "id": "8db8a3ff",
   "metadata": {},
   "source": [
    "You have now successfully logged into the server."
   ]
  },
  {
   "cell_type": "markdown",
   "id": "ee4b6fac",
   "metadata": {},
   "source": [
    "You should now be in your home directory, if you are not, you can navigate here using the `cd ~` command.\n",
    "\n",
    "You can check that you are in the homw directory using the command `pwd`.\n",
    "\n",
    "You should be able to see that you have no files in you home directory using the command `ls`.\n",
    "\n",
    "An example of these commands is shown below:"
   ]
  },
  {
   "cell_type": "markdown",
   "id": "d508abdf",
   "metadata": {},
   "source": [
    "<img src=\"img8.png\"  width=\"300\" height=\"300\">"
   ]
  },
  {
   "cell_type": "markdown",
   "id": "33c97ee2",
   "metadata": {},
   "source": [
    "#### 2. Installing Anaconda in the server"
   ]
  },
  {
   "cell_type": "markdown",
   "id": "52abaabb",
   "metadata": {},
   "source": [
    "While in your home directory (you can navigate here using the command `cd ~` if necessary), type in and run the command below:\n",
    "\n",
    "`curl -O https://repo.anaconda.com/archive/Anaconda3-<anaconda-version>-Linux-x86_64.sh`\n",
    "\n",
    "\\\n",
    "This command downloads a Linux distribution on Anaconda, and we are using this because the TSCC server is Linux compatible. The version used here is `2019.10`, so the entirety of the command looks as below:\n",
    "\n",
    "`curl -O https://repo.anaconda.com/archive/Anaconda3-2019.10-Linux-x86_64.sh`\n",
    "\n",
    "\\\n",
    "**Note**: This entire tutorial, and the other tutorials in the [rana-lab repository](https://github.com/harshi-saha/rana-lab) assume the installation of this version of Anaconda, but newer versions of Anaconda may be used in the future, and the tutorial will be updates accordingly. Other versions of Anaconda can be found [here.](https://repo.anaconda.com/archive/)\n",
    "\n",
    "After this, your terminal should look as below:"
   ]
  },
  {
   "cell_type": "markdown",
   "id": "e5e7c331",
   "metadata": {},
   "source": [
    "<img src=\"img3.png\"  width=\"800\" height=\"300\">"
   ]
  },
  {
   "cell_type": "markdown",
   "id": "38bb7532",
   "metadata": {},
   "source": [
    "You have now downloaded the file that contains scripts necessary to install `Anaconda` on the server. \n",
    "\n",
    "Because the installation of this version of `Anaconda` (2019.10) can take a while, we will be running an interactive job for the installation. \n",
    "\n",
    "The format for requesting an interactive job is as below:\n",
    "\n",
    "`qsub -I -l walltime=<hh:mm:ss>,nodes=<number-of-nodes>:ppn=<number-of-cores> -A ranalab -q hotel`\n",
    "\n",
    "**Note:** Keep in mind that you do not want to be running scripts that require a high amount of computational resources directly on the login node. The login node has a limited amount of computational resources and running something that requires a lot of resources will prevent other TSCC users from using the login node.\n",
    "\n",
    "**Note:** A shorter walltime means that you will need to wait less to get assigned the resources for your job. However, keep in mind that any process that is still running when the allocated walltime runs out will get killed. In addition, even if a large walltime is requested, if the job finishes before the walltime runs out, you can use the `exit` command to ensure that you do not get charged for walltime that you did not use. If you do not use `exit`, you will get charged for the full allocated walltime.  \n",
    "\n",
    "To initiate an interactive job where we can run the `Anaconda3-2019.10-Linux-x86_64.sh` file, we will use the command:\n",
    "\n",
    "`qsub -I -l walltime=2:00:00,nodes=1:ppn=16 -A ranalab -q hotel`\n",
    "\n",
    "After requesting the resources specified in the command above, you will have to wait until it is assigned to you, at which point you can use the command below to begin `Anaconda` installation:\n",
    "\n",
    "`bash Anaconda3-2019.10-Linux-x86_64.sh` \n",
    "\n",
    "At this point your terminal will look as below:"
   ]
  },
  {
   "cell_type": "markdown",
   "id": "a0360de2",
   "metadata": {},
   "source": [
    "<img src=\"img10.png\"  width=\"700\" height=\"300\">"
   ]
  },
  {
   "cell_type": "markdown",
   "id": "4c6bf6d1",
   "metadata": {},
   "source": [
    "Press the `enter` key to continue, after which you will see a message as below:"
   ]
  },
  {
   "cell_type": "markdown",
   "id": "282c956f",
   "metadata": {},
   "source": [
    "<img src=\"img11.png\"  width=\"800\" height=\"500\">"
   ]
  },
  {
   "cell_type": "markdown",
   "id": "1b6a20d2",
   "metadata": {},
   "source": [
    "Keep pressing the `enter` key to scroll through the agreement, until you reach the next prompt as below:"
   ]
  },
  {
   "cell_type": "markdown",
   "id": "1044e10a",
   "metadata": {},
   "source": [
    "<img src=\"img12.png\"  width=\"800\" height=\"300\">"
   ]
  },
  {
   "cell_type": "markdown",
   "id": "02d84271",
   "metadata": {},
   "source": [
    "Now type in `yes`, press the `enter` key, and your terminal will prompt you regarding the installation location of `Anaconda`. \n",
    "\n",
    "Your terminal should now look as below:"
   ]
  },
  {
   "cell_type": "markdown",
   "id": "4d518d7b",
   "metadata": {},
   "source": [
    "<img src=\"img14.png\"  width=\"500\" height=\"300\">"
   ]
  },
  {
   "cell_type": "markdown",
   "id": "c8a917d8",
   "metadata": {},
   "source": [
    "Since we are in the home directory and this is where we want to install `Anaconda`, simply press `enter`. \n",
    "\n",
    "As the installation of `Anaconda` runs, your terminal will look as below:"
   ]
  },
  {
   "cell_type": "markdown",
   "id": "5fdf27f2",
   "metadata": {},
   "source": [
    "<img src=\"img15.png\"  width=\"800\" height=\"300\">"
   ]
  },
  {
   "cell_type": "code",
   "execution_count": null,
   "id": "16dfcf74",
   "metadata": {},
   "outputs": [],
   "source": []
  },
  {
   "cell_type": "markdown",
   "id": "1f2d4303",
   "metadata": {},
   "source": [
    "#### 8. Notes:\n"
   ]
  },
  {
   "cell_type": "markdown",
   "id": "69b23f4c",
   "metadata": {},
   "source": [
    "#### What each location and directory should be used for:"
   ]
  },
  {
   "cell_type": "markdown",
   "id": "a4bfde57",
   "metadata": {},
   "source": [
    "#### How to upload files to the server:"
   ]
  },
  {
   "cell_type": "markdown",
   "id": "ea083184",
   "metadata": {},
   "source": [
    "#### Where to get help:\n",
    "\n",
    "For any questions related to the server, email `tscc-support@ucsd.edu `."
   ]
  },
  {
   "cell_type": "markdown",
   "id": "7876ad60",
   "metadata": {},
   "source": [
    "#### References:\n",
    "\n",
    "- [Installing Anaconda in the server](https://kengchichang.com/post/conda-linux/)"
   ]
  },
  {
   "cell_type": "code",
   "execution_count": null,
   "id": "1e02e1ec",
   "metadata": {},
   "outputs": [],
   "source": []
  }
 ],
 "metadata": {
  "kernelspec": {
   "display_name": "Python 3 (ipykernel)",
   "language": "python",
   "name": "python3"
  },
  "language_info": {
   "codemirror_mode": {
    "name": "ipython",
    "version": 3
   },
   "file_extension": ".py",
   "mimetype": "text/x-python",
   "name": "python",
   "nbconvert_exporter": "python",
   "pygments_lexer": "ipython3",
   "version": "3.8.15"
  }
 },
 "nbformat": 4,
 "nbformat_minor": 5
}
