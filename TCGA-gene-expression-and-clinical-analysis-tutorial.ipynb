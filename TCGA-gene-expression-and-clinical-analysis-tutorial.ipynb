{
 "cells": [
  {
   "cell_type": "markdown",
   "id": "77be4bfe",
   "metadata": {},
   "source": [
    "# TCGA gene expression and clinical analysis guide\n",
    "pipeline author: online resources\n",
    "\n",
    "guide author: Jiayu Chen\n",
    "\n",
    "update date: May 29th"
   ]
  },
  {
   "cell_type": "markdown",
   "id": "b988effd",
   "metadata": {},
   "source": [
    "To be continue"
   ]
  }
 ],
 "metadata": {
  "kernelspec": {
   "display_name": "Python 3 (ipykernel)",
   "language": "python",
   "name": "python3"
  },
  "language_info": {
   "codemirror_mode": {
    "name": "ipython",
    "version": 3
   },
   "file_extension": ".py",
   "mimetype": "text/x-python",
   "name": "python",
   "nbconvert_exporter": "python",
   "pygments_lexer": "ipython3",
   "version": "3.9.12"
  }
 },
 "nbformat": 4,
 "nbformat_minor": 5
}
