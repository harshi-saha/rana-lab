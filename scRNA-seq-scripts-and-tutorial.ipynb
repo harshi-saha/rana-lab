{
 "cells": [
  {
   "cell_type": "markdown",
   "id": "2e55b8c8",
   "metadata": {},
   "source": [
    "# scRNA pipeline\n",
    "\n",
    "pipeline constructor: Zhaoyang\n",
    "\n",
    "guide author: Jiayu Chen"
   ]
  },
  {
   "cell_type": "markdown",
   "id": "b9385471",
   "metadata": {},
   "source": [
    "## outline:\n",
    "1. Cellranger to output count matrix (v3 used for the previous analysis)\n",
    "\n",
    "2. sctranform count matrix\n",
    "\n",
    "3. Seurat to perform analyses\n"
   ]
  },
  {
   "cell_type": "markdown",
   "id": "5e1cbabe",
   "metadata": {},
   "source": [
    "## 1. cellranger introduction"
   ]
  },
  {
   "cell_type": "markdown",
   "id": "9b72bb76",
   "metadata": {},
   "source": [
    "### download\n",
    "\n",
    "### Local: \n",
    "**warning: do not use cellranger on mac, it is not compatible. Go linux.**\n",
    "\n",
    "download from this [official link](https://support.10xgenomics.com/single-cell-gene-expression/software/downloads/latest?)\n",
    "- cellranger tar package \n",
    "- grcm human reference genomes\n",
    "- mm10 mouse reference genomes\n",
    "- Human reference (GRCh38) and mouse dataset required for Cell Ranger.\n",
    "\n",
    "\n",
    "[official datasets for practice](https://www.10xgenomics.com/resources/datasets?menu%5Bproducts.name%5D=Single%20Cell%20Gene%20Expression&query=&page=1&configure%5BhitsPerPage%5D=50&configure%5BmaxValuesPerFacet%5D=1000)\n"
   ]
  },
  {
   "cell_type": "markdown",
   "id": "dacf18f6",
   "metadata": {},
   "source": [
    "##### usually takes hours to run a sample, plan time early: \n",
    "[official practice link](https://support.10xgenomics.com/single-cell-gene-expression/software/pipelines/latest/using/tutorial_ct)"
   ]
  },
  {
   "cell_type": "markdown",
   "id": "15f5234b",
   "metadata": {},
   "source": [
    "##### example cmd: \n",
    "\n",
    "`mkdir practice`\n",
    "\n",
    "`cd practice`\n",
    "\n",
    "- get practice files\n",
    "\n",
    "`wget https://cf.10xgenomics.com/samples/cell-exp/3.0.0/pbmc_1k_v3/pbmc_1k_v3_fastqs.tar`\n",
    "\n",
    "`tar -xvf pbmc_1k_v3_fastqs.tar`\n",
    "\n",
    "- get reference\n",
    "\n",
    "`wget https://cf.10xgenomics.com/supp/cell-exp/refdata-gex-GRCh38-2020-A.tar.gz`\n",
    "\n",
    "`tar -zxvf refdata-gex-GRCh38-2020-A.tar.gz`\n",
    "\n",
    "- set up cmd\n",
    "\n",
    "`cellranger count --help`"
   ]
  },
  {
   "cell_type": "markdown",
   "id": "d911e97b",
   "metadata": {},
   "source": [
    "The result is stored in \n",
    "\n",
    "/home/smallshrimp/opt/cellranger-7.1.0/yard/run_cellranger_count/run_count_1kpbmcs/**outs/filtered_feature_bc_matrix/**\n",
    "\n",
    "as `barcodes`, `features`, and `matrix`. "
   ]
  },
  {
   "cell_type": "code",
   "execution_count": null,
   "id": "60aef796",
   "metadata": {},
   "outputs": [],
   "source": []
  },
  {
   "cell_type": "markdown",
   "id": "9f66fa12",
   "metadata": {},
   "source": [
    "## 2. sctranform"
   ]
  },
  {
   "cell_type": "markdown",
   "id": "e06ff513",
   "metadata": {},
   "source": [
    "The \"sctransform\" R package is a powerful tool for single-cell RNA sequencing (scRNA-seq) data analysis. It provides a method for the normalization and transformation of scRNA-seq count data, with the primary goal of improving the detection of differentially expressed genes and reducing technical noise."
   ]
  },
  {
   "cell_type": "markdown",
   "id": "8203be4a",
   "metadata": {},
   "source": [
    "Through this step, we mainly:\n",
    "- calculate mitocondria percentages use for quality check\n",
    "- normalization using `glmGamPoi` method, and the percentage of mitochondrial genes is specified as a variable to regress out (vars.to.regress) during the transformation"
   ]
  },
  {
   "cell_type": "markdown",
   "id": "fe82525f",
   "metadata": {},
   "source": [
    "example img:\n",
    "\n",
    "![to be filled](example.jpg)\n"
   ]
  },
  {
   "cell_type": "markdown",
   "id": "a324ba0a",
   "metadata": {},
   "source": [
    "## 3. Seurat"
   ]
  },
  {
   "cell_type": "markdown",
   "id": "464b40b3",
   "metadata": {},
   "source": [
    "Seurat is a widely used R package for single-cell RNA sequencing (scRNA-seq) data analysis. It provides a comprehensive and flexible toolkit for exploring, analyzing, and visualizing scRNA-seq data. "
   ]
  },
  {
   "cell_type": "markdown",
   "id": "54d41a76",
   "metadata": {},
   "source": [
    "To be continue.."
   ]
  }
 ],
 "metadata": {
  "kernelspec": {
   "display_name": "Python 3 (ipykernel)",
   "language": "python",
   "name": "python3"
  },
  "language_info": {
   "codemirror_mode": {
    "name": "ipython",
    "version": 3
   },
   "file_extension": ".py",
   "mimetype": "text/x-python",
   "name": "python",
   "nbconvert_exporter": "python",
   "pygments_lexer": "ipython3",
   "version": "3.9.12"
  }
 },
 "nbformat": 4,
 "nbformat_minor": 5
}
