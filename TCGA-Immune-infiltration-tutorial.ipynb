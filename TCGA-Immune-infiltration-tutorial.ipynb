{
 "cells": [
  {
   "cell_type": "markdown",
   "id": "70e562ee",
   "metadata": {},
   "source": [
    "# Profiling tumor infiltrating immune cells\n",
    "\n",
    "pipeline author: online resources\n",
    "\n",
    "guide author: Jiayu Chen\n",
    "\n",
    "update date: May 29th"
   ]
  },
  {
   "cell_type": "markdown",
   "id": "17a9fc73",
   "metadata": {},
   "source": [
    "intention of this guide: \n",
    "\n",
    "In the sense of learning this pipeline, and all other pipelines, you should be familr with them quickly so that whenever you have an idea of analysis, you can get results you want efficiently without much debugging. The important part is to get insightful analysis to solve various biological problems instead of confounding on coding."
   ]
  },
  {
   "cell_type": "markdown",
   "id": "585d514a",
   "metadata": {},
   "source": [
    "## Outline\n",
    "\n",
    "1. Introduction\n",
    "2. Gene Expression Data Download and Cleaning\n",
    "3. CIBERSORT\n",
    "4. Filtering samples\n",
    "5. Graph Analysis\n",
    "6. Clinical Data Download and Cleaning\n",
    "7. Survival analysis\n",
    "8. Clinical Correlation Analysis"
   ]
  },
  {
   "cell_type": "markdown",
   "id": "42519760",
   "metadata": {},
   "source": [
    "# 1. Introduction"
   ]
  },
  {
   "cell_type": "markdown",
   "id": "1ffc3cfb",
   "metadata": {},
   "source": [
    "Tumor immune cell infiltration refers to the migration of immune cells from the blood to the tumor tissue and begins to play its role. The infiltrating immune cells can be isolated from the tumor tissue.\n",
    "The infiltration of immune cells in tumors is closely related to clinical outcomes, and the infiltrating immune cells in tumors are the most likely drug targets to improve patient survival"
   ]
  },
  {
   "cell_type": "markdown",
   "id": "a22d97c3",
   "metadata": {},
   "source": [
    "Here is a table of 22 immune cell types:\n",
    "\n",
    "| Cell Type                      |\n",
    "|--------------------------------|\n",
    "| B cells naive                  |\n",
    "| B cells memory                 |\n",
    "| Plasma cells                   |\n",
    "| T cells CD8                    |\n",
    "| T cells CD4 naive              |\n",
    "| T cells CD4 memory resting     |\n",
    "| T cells CD4 memory activating  |\n",
    "| T cells follicular helper      |\n",
    "| T cells regulatory (Tregs)     |\n",
    "| T cells gamma delta            |\n",
    "| NK cells resting               |\n",
    "| NK cells activated             |\n",
    "| Monocytes                      |\n",
    "| Macrophages M0                 |\n",
    "| Macrophages M1                 |\n",
    "| Macrophages M2                 |\n",
    "| Dendritic cells resting        |\n",
    "| Dendritic cells activated      |\n",
    "| Mast cells resting             |\n",
    "| Mast cells activated           |\n",
    "| Eosinophils                    |\n",
    "| Neutrophils                    |"
   ]
  },
  {
   "cell_type": "markdown",
   "id": "26285efe",
   "metadata": {},
   "source": [
    "#### forecasting software\n",
    "`CIBERSORT`, a deconvolution algorithm developed by Bindea G et al., can estimate the cellular composition of complex tissues based on standardized gene expression data, and this method can quantify the abundance of specific cell types.\n",
    "Well validated and successfully assessed immune cell composition in breast and liver cancer tissues by flow cytometry."
   ]
  },
  {
   "cell_type": "markdown",
   "id": "ea501687",
   "metadata": {},
   "source": [
    "# 2. Gene Expression Data Download and Cleaning"
   ]
  },
  {
   "cell_type": "markdown",
   "id": "5b8a62c9",
   "metadata": {},
   "source": [
    "We use TCGA online data base in this project. \n",
    "\n",
    "brief intro:\n",
    "\n",
    "[**TCGA**](https://portal.gdc.cancer.gov/)\n",
    "\n",
    "The Cancer Genome Atlas (TCGA) is a collaborative project that aims to comprehensively characterize genomic alterations in various types of cancer. It involves a vast collection of genomic, transcriptomic, and clinical data from thousands of cancer patients. The Genomic Data Commons (GDC) is a central repository and data portal that hosts and provides access to the TCGA datasets."
   ]
  },
  {
   "cell_type": "markdown",
   "id": "15d7c2d8",
   "metadata": {},
   "source": [
    "## Download"
   ]
  },
  {
   "cell_type": "markdown",
   "id": "27000ad3",
   "metadata": {},
   "source": [
    "Go to repository -> \n",
    "- Under `Files`: transcriptome profiling / Gene Expression Quantification / RNA-Seq / tsv\n",
    "- Under `Cases`: (cancer of interest) / TCGA / (your choice of selection)\n",
    "\n",
    "->`Add All Files to Cart` -> Go to `Cart` -> Download `Cart` and `MetaData`. (large dataset download can take longer time, using official GDC download tools can be faster)\n",
    "\n",
    "At the end, you should have something like: `metadata.cart.2023-04-27.json` and `gdc_download_20190123_001200.116574.tar.gz`. "
   ]
  },
  {
   "cell_type": "markdown",
   "id": "3d993bf7",
   "metadata": {},
   "source": [
    "## Data Cleaning"
   ]
  },
  {
   "cell_type": "markdown",
   "id": "fc1af40c",
   "metadata": {},
   "source": [
    "To be continue"
   ]
  },
  {
   "cell_type": "markdown",
   "id": "ebc172b1",
   "metadata": {},
   "source": [
    "# CIBERSORT"
   ]
  },
  {
   "cell_type": "markdown",
   "id": "fe3e403d",
   "metadata": {},
   "source": [
    "Once you have your data prepared, you can go to their website to perform analysis online."
   ]
  },
  {
   "cell_type": "markdown",
   "id": "8ffed7ac",
   "metadata": {},
   "source": [
    "To be continue"
   ]
  }
 ],
 "metadata": {
  "kernelspec": {
   "display_name": "Python 3 (ipykernel)",
   "language": "python",
   "name": "python3"
  },
  "language_info": {
   "codemirror_mode": {
    "name": "ipython",
    "version": 3
   },
   "file_extension": ".py",
   "mimetype": "text/x-python",
   "name": "python",
   "nbconvert_exporter": "python",
   "pygments_lexer": "ipython3",
   "version": "3.9.12"
  }
 },
 "nbformat": 4,
 "nbformat_minor": 5
}
